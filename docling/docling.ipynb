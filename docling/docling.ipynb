{
 "cells": [
  {
   "cell_type": "code",
   "execution_count": null,
   "id": "e065af41",
   "metadata": {},
   "outputs": [],
   "source": [
    "from docling.models.rapid_ocr_model import RapidOcrModel"
   ]
  },
  {
   "cell_type": "code",
   "execution_count": null,
   "id": "eea4f560",
   "metadata": {},
   "outputs": [],
   "source": [
    "from docling.document_converter import DocumentConverter\n",
    "\n",
    "source = \"./report.pdf\"  # PDF path or URL\n",
    "converter = DocumentConverter()\n",
    "result = converter.convert(source)\n",
    "print(result.document.export_to_markdown())  # output: \"### Docling Technical Report[...]\""
   ]
  },
  {
   "cell_type": "code",
   "execution_count": null,
   "id": "5bf2c4c3",
   "metadata": {},
   "outputs": [],
   "source": [
    "result.document.export_to_html()"
   ]
  },
  {
   "cell_type": "code",
   "execution_count": null,
   "id": "8442df40",
   "metadata": {},
   "outputs": [],
   "source": [
    "import torch \n",
    "torch.mps.current_allocated_memory()"
   ]
  },
  {
   "cell_type": "code",
   "execution_count": null,
   "id": "7d5e6c40",
   "metadata": {},
   "outputs": [],
   "source": [
    "print(f\"Allocated: {torch.mps.current_allocated_memory() / 1024**2:.2f} MB\")\n",
    "print(f\"Cached: {torch.mps.driver_allocated_memory() / 1024**2:.2f} MB\")"
   ]
  },
  {
   "cell_type": "markdown",
   "id": "57eb834a",
   "metadata": {},
   "source": [
    "# Use SmolDocling wit MLX"
   ]
  },
  {
   "cell_type": "code",
   "execution_count": null,
   "id": "ce276c70",
   "metadata": {},
   "outputs": [],
   "source": [
    "from docling.utils import model_downloader\n",
    "from pathlib import Path\n",
    "from tqdm import tqdm"
   ]
  },
  {
   "cell_type": "code",
   "execution_count": null,
   "id": "a1c1eb4c",
   "metadata": {},
   "outputs": [],
   "source": [
    "model_downloader.download_models(\n",
    "    output_dir=Path(\"./models/smaldoc\"),\n",
    "    with_smoldocling_mlx=True,\n",
    "    with_smoldocling=True,\n",
    "    progress=True,\n",
    "    with_smolvlm=False,\n",
    "    with_picture_classifier=False)"
   ]
  },
  {
   "cell_type": "code",
   "execution_count": null,
   "id": "53b4e127",
   "metadata": {},
   "outputs": [],
   "source": [
    "from docling.datamodel.base_models import InputFormat\n",
    "from docling.datamodel.pipeline_options import PdfPipelineOptions\n",
    "from docling.document_converter import PdfFormatOption\n",
    "model_path=\"./models\"\n",
    "pipeline_options=PdfPipelineOptions(artifacts_path=model_path)\n",
    "pipeline_options.table_structure_options.do_cell_matching= True\n",
    "doc_converter=DocumentConverter(\n",
    "    format_options={\n",
    "        InputFormat.PDF: PdfFormatOption(pipeline_options=pipeline_options)\n",
    "    }\n",
    ")"
   ]
  },
  {
   "cell_type": "code",
   "execution_count": null,
   "id": "fea81aa6",
   "metadata": {},
   "outputs": [],
   "source": [
    "pipeline_options.table_structure_options.do_cell_matching\n",
    "pipeline_options.table_structure_options.mode"
   ]
  },
  {
   "cell_type": "code",
   "execution_count": null,
   "id": "8b503cbf",
   "metadata": {},
   "outputs": [],
   "source": [
    "result=doc_converter.convert(source)"
   ]
  },
  {
   "cell_type": "code",
   "execution_count": null,
   "id": "b4b4d367",
   "metadata": {},
   "outputs": [],
   "source": [
    "print(result.document.export_to_markdown())"
   ]
  },
  {
   "cell_type": "code",
   "execution_count": null,
   "id": "4b463078",
   "metadata": {},
   "outputs": [],
   "source": [
    "result.document.save_as_html(\"output_1.html\")"
   ]
  },
  {
   "cell_type": "code",
   "execution_count": null,
   "id": "77ae1b61",
   "metadata": {},
   "outputs": [],
   "source": [
    "from IPython.display import HTML\n",
    "HTML(\"output_1.html\")"
   ]
  },
  {
   "cell_type": "code",
   "execution_count": null,
   "id": "401a3660",
   "metadata": {},
   "outputs": [],
   "source": []
  },
  {
   "cell_type": "code",
   "execution_count": null,
   "id": "ae98adfe",
   "metadata": {},
   "outputs": [],
   "source": []
  }
 ],
 "metadata": {
  "kernelspec": {
   "display_name": ".venv",
   "language": "python",
   "name": "python3"
  },
  "language_info": {
   "codemirror_mode": {
    "name": "ipython",
    "version": 3
   },
   "file_extension": ".py",
   "mimetype": "text/x-python",
   "name": "python",
   "nbconvert_exporter": "python",
   "pygments_lexer": "ipython3",
   "version": "3.12.11"
  }
 },
 "nbformat": 4,
 "nbformat_minor": 5
}
