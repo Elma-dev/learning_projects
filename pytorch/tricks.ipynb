{
 "cells": [
  {
   "cell_type": "code",
   "execution_count": 4,
   "metadata": {},
   "outputs": [],
   "source": [
    "import torch\n",
    "from torch import nn\n",
    "\n",
    "\n",
    "def conv_block(in_f,out_f,*args,**kwargs):\n",
    "    return nn.Sequential(\n",
    "        nn.Conv2d(in_f,out_f,*args,**kwargs),\n",
    "        nn.BatchNorm2d(out_f),\n",
    "        nn.ReLU()\n",
    "    )\n"
   ]
  },
  {
   "cell_type": "code",
   "execution_count": 5,
   "metadata": {},
   "outputs": [],
   "source": [
    "class MyCNNClassifier(nn.Module):\n",
    "    def __init__(self,in_c,n_classes) -> None:\n",
    "        super().__init__()\n",
    "        self.encoder = nn.Sequential(\n",
    "            conv_block(in_c,32,kernel_size=3,stride=1,padding=1),\n",
    "            conv_block(32,64,kernel_size=3,stride=1,padding=1),\n",
    "        )\n",
    "        self.decoder = nn.Sequential(\n",
    "            nn.Linear(64*28*28,1024),\n",
    "            nn.Sigmoid(),\n",
    "            nn.Linear(1024,n_classes)\n",
    "        )\n",
    "    def forward(self,X: torch.Tensor)->torch.Tensor:\n",
    "        output= self.encoder(X)\n",
    "        output= output.view(output.shape[0],-1)\n",
    "        output= self.decoder(output)\n",
    "        return output\n",
    "\n"
   ]
  },
  {
   "cell_type": "code",
   "execution_count": 12,
   "metadata": {},
   "outputs": [
    {
     "data": {
      "text/plain": [
       "MyCNNClassifier(\n",
       "  (encoder): Sequential(\n",
       "    (0): Sequential(\n",
       "      (0): Conv2d(1, 32, kernel_size=(3, 3), stride=(1, 1), padding=(1, 1))\n",
       "      (1): BatchNorm2d(32, eps=1e-05, momentum=0.1, affine=True, track_running_stats=True)\n",
       "      (2): ReLU()\n",
       "    )\n",
       "    (1): Sequential(\n",
       "      (0): Conv2d(32, 64, kernel_size=(3, 3), stride=(1, 1), padding=(1, 1))\n",
       "      (1): BatchNorm2d(64, eps=1e-05, momentum=0.1, affine=True, track_running_stats=True)\n",
       "      (2): ReLU()\n",
       "    )\n",
       "  )\n",
       "  (decoder): Sequential(\n",
       "    (0): Linear(in_features=50176, out_features=1024, bias=True)\n",
       "    (1): Sigmoid()\n",
       "    (2): Linear(in_features=1024, out_features=10, bias=True)\n",
       "  )\n",
       ")"
      ]
     },
     "execution_count": 12,
     "metadata": {},
     "output_type": "execute_result"
    }
   ],
   "source": [
    "model= MyCNNClassifier(1,10)\n",
    "model"
   ]
  },
  {
   "cell_type": "markdown",
   "metadata": {},
   "source": [
    "## Summary of our model"
   ]
  },
  {
   "cell_type": "code",
   "execution_count": 14,
   "metadata": {},
   "outputs": [
    {
     "data": {
      "text/plain": [
       "==========================================================================================\n",
       "Layer (type:depth-idx)                   Output Shape              Param #\n",
       "==========================================================================================\n",
       "MyCNNClassifier                          [1, 10]                   --\n",
       "├─Sequential: 1-1                        [1, 64, 28, 28]           --\n",
       "│    └─Sequential: 2-1                   [1, 32, 28, 28]           --\n",
       "│    │    └─Conv2d: 3-1                  [1, 32, 28, 28]           320\n",
       "│    │    └─BatchNorm2d: 3-2             [1, 32, 28, 28]           64\n",
       "│    │    └─ReLU: 3-3                    [1, 32, 28, 28]           --\n",
       "│    └─Sequential: 2-2                   [1, 64, 28, 28]           --\n",
       "│    │    └─Conv2d: 3-4                  [1, 64, 28, 28]           18,496\n",
       "│    │    └─BatchNorm2d: 3-5             [1, 64, 28, 28]           128\n",
       "│    │    └─ReLU: 3-6                    [1, 64, 28, 28]           --\n",
       "├─Sequential: 1-2                        [1, 10]                   --\n",
       "│    └─Linear: 2-3                       [1, 1024]                 51,381,248\n",
       "│    └─Sigmoid: 2-4                      [1, 1024]                 --\n",
       "│    └─Linear: 2-5                       [1, 10]                   10,250\n",
       "==========================================================================================\n",
       "Total params: 51,410,506\n",
       "Trainable params: 51,410,506\n",
       "Non-trainable params: 0\n",
       "Total mult-adds (Units.MEGABYTES): 66.14\n",
       "==========================================================================================\n",
       "Input size (MB): 0.00\n",
       "Forward/backward pass size (MB): 1.21\n",
       "Params size (MB): 205.64\n",
       "Estimated Total Size (MB): 206.86\n",
       "=========================================================================================="
      ]
     },
     "execution_count": 14,
     "metadata": {},
     "output_type": "execute_result"
    }
   ],
   "source": [
    "from torchinfo import summary\n",
    "summary(model,input_size=(1,1,28,28))"
   ]
  },
  {
   "cell_type": "markdown",
   "metadata": {},
   "source": [
    "### Make the ConvClass more easy"
   ]
  },
  {
   "cell_type": "code",
   "execution_count": 23,
   "metadata": {},
   "outputs": [],
   "source": [
    "def decoder_bloc(in_dim,out_dim):\n",
    "    return nn.Sequential(\n",
    "        nn.Linear(in_dim,out_dim),\n",
    "        nn.Sigmoid()\n",
    "    )"
   ]
  },
  {
   "cell_type": "code",
   "execution_count": 21,
   "metadata": {},
   "outputs": [],
   "source": [
    "class MyCNNClassifier(nn.Module):\n",
    "    def __init__(self,in_c,n_classes) -> None:\n",
    "        super().__init__()\n",
    "        self.encoder = nn.Sequential(\n",
    "            conv_block(in_c,32,kernel_size=3,stride=1,padding=1),\n",
    "            conv_block(32,64,kernel_size=3,stride=1,padding=1),\n",
    "        )\n",
    "        self.decoder = nn.Sequential(\n",
    "            decoder_bloc(64*28*28,1024),\n",
    "            nn.Linear(1024,n_classes)\n",
    "        )\n",
    "    def forward(self,X: torch.Tensor)->torch.Tensor:\n",
    "        output= self.encoder(X)\n",
    "        output= output.view(output.shape[0],-1)\n",
    "        output= self.decoder(output)\n",
    "        return output\n",
    "\n"
   ]
  },
  {
   "cell_type": "code",
   "execution_count": 22,
   "metadata": {},
   "outputs": [
    {
     "data": {
      "text/plain": [
       "MyCNNClassifier(\n",
       "  (encoder): Sequential(\n",
       "    (0): Sequential(\n",
       "      (0): Conv2d(1, 32, kernel_size=(3, 3), stride=(1, 1), padding=(1, 1))\n",
       "      (1): BatchNorm2d(32, eps=1e-05, momentum=0.1, affine=True, track_running_stats=True)\n",
       "      (2): ReLU()\n",
       "    )\n",
       "    (1): Sequential(\n",
       "      (0): Conv2d(32, 64, kernel_size=(3, 3), stride=(1, 1), padding=(1, 1))\n",
       "      (1): BatchNorm2d(64, eps=1e-05, momentum=0.1, affine=True, track_running_stats=True)\n",
       "      (2): ReLU()\n",
       "    )\n",
       "  )\n",
       "  (decoder): Sequential(\n",
       "    (0): Sequential(\n",
       "      (0): Linear(in_features=50176, out_features=1024, bias=True)\n",
       "      (1): Sigmoid()\n",
       "    )\n",
       "    (1): Linear(in_features=1024, out_features=10, bias=True)\n",
       "  )\n",
       ")"
      ]
     },
     "execution_count": 22,
     "metadata": {},
     "output_type": "execute_result"
    }
   ],
   "source": [
    "MyCNNClassifier(1,10)"
   ]
  },
  {
   "cell_type": "code",
   "execution_count": 24,
   "metadata": {},
   "outputs": [],
   "source": [
    "# make it more easy\n",
    "\n",
    "class MyCNNClassifier(nn.Module):\n",
    "    def __init__(self,in_c,encoder_bloc_sizes,decoder_bloc_sizes,n_classes) -> None:\n",
    "        super().__init__()\n",
    "        encoder_bloc_sizes=[in_c,*encoder_bloc_sizes]\n",
    "        decoder_bloc_sizes=[64*28*28,*decoder_bloc_sizes]\n",
    "\n",
    "        encoder_blocs= [\n",
    "            conv_block(in_s,out_s,kernel_size=3,stride=1,padding=1)\n",
    "            for (in_s,out_s) in zip(encoder_bloc_sizes,encoder_bloc_sizes[1:])\n",
    "        ]\n",
    "        decoder_blocs= [\n",
    "            decoder_bloc(in_s,out_s)\n",
    "            for (in_s,out_s) in zip(decoder_bloc_sizes,decoder_bloc_sizes[1:])\n",
    "        ]\n",
    "\n",
    "        self.encoder = nn.Sequential(*encoder_blocs)\n",
    "        self.decoder = nn.Sequential(*decoder_blocs)\n",
    "        self.out_layer= nn.Linear(decoder_bloc_sizes[-1],n_classes)\n",
    "\n",
    "    def forward(self,X: torch.Tensor)->torch.Tensor:\n",
    "        output= self.encoder(X)\n",
    "        output= output.view(output.shape[0],-1)\n",
    "        output= self.decoder(output)\n",
    "        output= self.out_layer(output)\n",
    "        return output\n",
    "\n"
   ]
  },
  {
   "cell_type": "code",
   "execution_count": 26,
   "metadata": {},
   "outputs": [
    {
     "data": {
      "text/plain": [
       "MyCNNClassifier(\n",
       "  (encoder): Sequential(\n",
       "    (0): Sequential(\n",
       "      (0): Conv2d(1, 32, kernel_size=(3, 3), stride=(1, 1), padding=(1, 1))\n",
       "      (1): BatchNorm2d(32, eps=1e-05, momentum=0.1, affine=True, track_running_stats=True)\n",
       "      (2): ReLU()\n",
       "    )\n",
       "    (1): Sequential(\n",
       "      (0): Conv2d(32, 64, kernel_size=(3, 3), stride=(1, 1), padding=(1, 1))\n",
       "      (1): BatchNorm2d(64, eps=1e-05, momentum=0.1, affine=True, track_running_stats=True)\n",
       "      (2): ReLU()\n",
       "    )\n",
       "  )\n",
       "  (decoder): Sequential(\n",
       "    (0): Sequential(\n",
       "      (0): Linear(in_features=50176, out_features=1024, bias=True)\n",
       "      (1): Sigmoid()\n",
       "    )\n",
       "  )\n",
       "  (out_layer): Linear(in_features=1024, out_features=10, bias=True)\n",
       ")"
      ]
     },
     "execution_count": 26,
     "metadata": {},
     "output_type": "execute_result"
    }
   ],
   "source": [
    "in_c=1\n",
    "encoder_bloc_sizes=[32,64]\n",
    "decoder_bloc_sizes=[1024]\n",
    "n_classes=10\n",
    "MyCNNClassifier(in_c,encoder_bloc_sizes,decoder_bloc_sizes,n_classes)"
   ]
  },
  {
   "cell_type": "markdown",
   "metadata": {},
   "source": [
    "# separate encoder and decoder"
   ]
  },
  {
   "cell_type": "code",
   "execution_count": null,
   "metadata": {},
   "outputs": [],
   "source": []
  }
 ],
 "metadata": {
  "kernelspec": {
   "display_name": ".venv",
   "language": "python",
   "name": "python3"
  },
  "language_info": {
   "codemirror_mode": {
    "name": "ipython",
    "version": 3
   },
   "file_extension": ".py",
   "mimetype": "text/x-python",
   "name": "python",
   "nbconvert_exporter": "python",
   "pygments_lexer": "ipython3",
   "version": "3.12.11"
  }
 },
 "nbformat": 4,
 "nbformat_minor": 2
}
