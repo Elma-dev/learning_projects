{
 "cells": [
  {
   "cell_type": "code",
   "execution_count": 1,
   "id": "d9b24868",
   "metadata": {},
   "outputs": [],
   "source": [
    "from ultralytics import YOLO"
   ]
  },
  {
   "cell_type": "code",
   "execution_count": 2,
   "id": "204495b3",
   "metadata": {},
   "outputs": [
    {
     "name": "stdout",
     "output_type": "stream",
     "text": [
      "mps\n"
     ]
    }
   ],
   "source": [
    "import torch\n",
    "device= \"mps\" if torch.backends.mps.is_available() else \"cpu\"\n",
    "print(device)"
   ]
  },
  {
   "cell_type": "code",
   "execution_count": 3,
   "id": "c0e38564",
   "metadata": {},
   "outputs": [
    {
     "name": "stdout",
     "output_type": "stream",
     "text": [
      "Allocated: 0.00 MB\n",
      "Cached: 0.45 MB\n"
     ]
    }
   ],
   "source": [
    "import gc\n",
    "def empty_cache():\n",
    "    gc.collect()\n",
    "    torch.mps.empty_cache()\n",
    "    print(f\"Allocated: {torch.mps.current_allocated_memory() / 1024**2:.2f} MB\")\n",
    "    print(f\"Cached: {torch.mps.driver_allocated_memory() / 1024**2:.2f} MB\")\n",
    "empty_cache()"
   ]
  },
  {
   "cell_type": "code",
   "execution_count": null,
   "id": "196b3e8f",
   "metadata": {},
   "outputs": [],
   "source": [
    "# load segmentation model\n",
    "model= YOLO(\"yolo11n-seg.pt\").to(device)"
   ]
  },
  {
   "cell_type": "code",
   "execution_count": 19,
   "id": "216898af",
   "metadata": {},
   "outputs": [
    {
     "name": "stdout",
     "output_type": "stream",
     "text": [
      "\n",
      "Downloading https://ultralytics.com/images/bus.jpg to 'bus.jpg'...\n"
     ]
    },
    {
     "name": "stderr",
     "output_type": "stream",
     "text": [
      "100%|██████████| 134k/134k [00:00<00:00, 1.63MB/s]\n"
     ]
    },
    {
     "name": "stdout",
     "output_type": "stream",
     "text": [
      "WARNING ⚠️ NMS time limit 2.050s exceeded\n",
      "image 1/1 /Users/aelmajjodi/Desktop/projects/study_projects/yolo/bus.jpg: 640x480 4 persons, 1 bus, 1 stop sign, 646.6ms\n",
      "Speed: 62.4ms preprocess, 646.6ms inference, 6824.0ms postprocess per image at shape (1, 3, 640, 480)\n"
     ]
    }
   ],
   "source": [
    "model.eval()\n",
    "with torch.no_grad():\n",
    "    result= model(\"https://ultralytics.com/images/bus.jpg\")  #model(\"test.png\")"
   ]
  },
  {
   "cell_type": "code",
   "execution_count": 20,
   "id": "4923415b",
   "metadata": {},
   "outputs": [],
   "source": [
    "result[0].show()"
   ]
  },
  {
   "cell_type": "markdown",
   "id": "810e5a11",
   "metadata": {},
   "source": [
    "# YOLO+Prompt"
   ]
  },
  {
   "cell_type": "code",
   "execution_count": 29,
   "id": "ed55a083",
   "metadata": {},
   "outputs": [
    {
     "name": "stdout",
     "output_type": "stream",
     "text": [
      "Allocated: 0.00 MB\n",
      "Cached: 2.61 MB\n"
     ]
    }
   ],
   "source": [
    "empty_cache()"
   ]
  },
  {
   "cell_type": "code",
   "execution_count": 12,
   "id": "79bf3ba3",
   "metadata": {},
   "outputs": [
    {
     "name": "stdout",
     "output_type": "stream",
     "text": [
      "Downloading https://github.com/ultralytics/assets/releases/download/v8.3.0/yoloe-11s-seg.pt to 'yoloe-11s-seg.pt'...\n"
     ]
    },
    {
     "name": "stderr",
     "output_type": "stream",
     "text": [
      "100%|██████████| 26.5M/26.5M [00:13<00:00, 2.00MB/s]\n"
     ]
    }
   ],
   "source": [
    "model= YOLO(\"yoloe-11s-seg.pt\").to(device)"
   ]
  },
  {
   "cell_type": "code",
   "execution_count": 26,
   "id": "9a180649",
   "metadata": {},
   "outputs": [],
   "source": [
    "TEXT_PROMPTS = [\n",
    "        \"a long vertical pipe\",\n",
    "        \"a pipe elbow\",\n",
    "        \"a horizontal duct\",\n",
    "        \"a hexagonal equipment tag\",\n",
    "        \"a rectangular symbol with a black dot\",\n",
    "        \"a small rectangular label with text\", # For the '48x6' and '12x6'\n",
    "        \"an inline filter\",\n",
    "        \"numbers\",\n",
    "        \"text\"\n",
    "    ]"
   ]
  },
  {
   "cell_type": "code",
   "execution_count": 27,
   "id": "805f3f74",
   "metadata": {},
   "outputs": [],
   "source": [
    "model.set_classes(TEXT_PROMPTS,model.cpu().get_text_pe(TEXT_PROMPTS))"
   ]
  },
  {
   "cell_type": "code",
   "execution_count": 28,
   "id": "ae18f66b",
   "metadata": {},
   "outputs": [
    {
     "name": "stdout",
     "output_type": "stream",
     "text": [
      "\n",
      "image 1/1 /Users/aelmajjodi/Desktop/projects/study_projects/yolo/test.png: 576x640 (no detections), 166.5ms\n",
      "Speed: 2.3ms preprocess, 166.5ms inference, 0.8ms postprocess per image at shape (1, 3, 576, 640)\n"
     ]
    }
   ],
   "source": [
    "model.eval()\n",
    "with torch.no_grad():\n",
    "    result=model.predict(\"test.png\")\n",
    "result[0].show()"
   ]
  },
  {
   "cell_type": "code",
   "execution_count": null,
   "id": "11154c82",
   "metadata": {},
   "outputs": [],
   "source": [
    "result"
   ]
  },
  {
   "cell_type": "code",
   "execution_count": null,
   "id": "b921c044",
   "metadata": {},
   "outputs": [],
   "source": []
  }
 ],
 "metadata": {
  "kernelspec": {
   "display_name": ".venv",
   "language": "python",
   "name": "python3"
  },
  "language_info": {
   "codemirror_mode": {
    "name": "ipython",
    "version": 3
   },
   "file_extension": ".py",
   "mimetype": "text/x-python",
   "name": "python",
   "nbconvert_exporter": "python",
   "pygments_lexer": "ipython3",
   "version": "3.12.11"
  }
 },
 "nbformat": 4,
 "nbformat_minor": 5
}
