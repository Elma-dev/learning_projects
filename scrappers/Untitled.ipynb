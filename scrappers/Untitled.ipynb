{
 "cells": [
  {
   "cell_type": "code",
   "execution_count": 1,
   "id": "afe63df8-d3d6-4d93-ba7f-2ac1e42529e3",
   "metadata": {},
   "outputs": [
    {
     "name": "stdout",
     "output_type": "stream",
     "text": [
      "200\n"
     ]
    }
   ],
   "source": [
    "print(200)"
   ]
  },
  {
   "cell_type": "code",
   "execution_count": null,
   "id": "41a42695-fcda-472c-96a9-3aa082da60a7",
   "metadata": {},
   "outputs": [],
   "source": [
    "fron selenium."
   ]
  }
 ],
 "metadata": {
  "kernelspec": {
   "display_name": "Python (study_projects_venv)",
   "language": "python",
   "name": "study_projects_venv"
  },
  "language_info": {
   "codemirror_mode": {
    "name": "ipython",
    "version": 3
   },
   "file_extension": ".py",
   "mimetype": "text/x-python",
   "name": "python",
   "nbconvert_exporter": "python",
   "pygments_lexer": "ipython3",
   "version": "3.12.11"
  }
 },
 "nbformat": 4,
 "nbformat_minor": 5
}
